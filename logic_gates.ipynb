{
 "cells": [
  {
   "cell_type": "code",
   "execution_count": 1,
   "id": "107d54a5",
   "metadata": {},
   "outputs": [
    {
     "name": "stdout",
     "output_type": "stream",
     "text": [
      "[[0, 0], [0, 1], [1, 0], [1, 1]]\n"
     ]
    }
   ],
   "source": [
    "data=[]\n",
    "for i in [0,1]:\n",
    "    for j in [0,1]:\n",
    "        x=[i,j]\n",
    "        data.append(x)\n",
    "print(data)"
   ]
  },
  {
   "cell_type": "code",
   "execution_count": 2,
   "id": "d3af804d",
   "metadata": {},
   "outputs": [],
   "source": [
    "import numpy as np"
   ]
  },
  {
   "cell_type": "markdown",
   "id": "8faaee50",
   "metadata": {},
   "source": [
    "# and "
   ]
  },
  {
   "cell_type": "code",
   "execution_count": 3,
   "id": "6872bd48",
   "metadata": {},
   "outputs": [],
   "source": [
    "def sigmoid(x):\n",
    "    return 1/(1+np.exp(-x))"
   ]
  },
  {
   "cell_type": "code",
   "execution_count": 4,
   "id": "d24c306f",
   "metadata": {},
   "outputs": [],
   "source": [
    "def sigmoid_derivative(x):\n",
    "    return sigmoid(x)*(1-sigmoid(x))"
   ]
  },
  {
   "cell_type": "code",
   "execution_count": 5,
   "id": "0601480d",
   "metadata": {},
   "outputs": [
    {
     "name": "stdout",
     "output_type": "stream",
     "text": [
      "[[0.96209364 0.06425972 0.96501614 0.055493  ]\n",
      " [0.54972631 0.56193694 0.70476401 0.48142117]]\n",
      "[[0.24713716]\n",
      " [0.2400731 ]\n",
      " [0.91631196]\n",
      " [0.1159    ]]\n",
      "[[0.09324444 0.77987466 0.86039249 0.63770824]]\n",
      "[[0.74279748]]\n",
      "-----\n"
     ]
    }
   ],
   "source": [
    "out=[0,0,0,1] # and gate\n",
    "\n",
    "input_weights= np.random.uniform(size=(2,4)) # 2 inputs, 4 outputs\n",
    "hidden_weights= np.random.uniform(size=(4,1)) # 4 inputs, 1 output\n",
    "input_bias= np.random.uniform(size=(1,4)) # 1 input, 4 outputs\n",
    "hidden_bias= np.random.uniform(size=(1,1)) # 1 input, 1\n",
    "lr=0.1 # learning rate\n",
    "print(input_weights) \n",
    "print(hidden_weights)\n",
    "print(input_bias)\n",
    "print(hidden_bias)\n",
    "print(\"-----\")\n",
    "\n"
   ]
  },
  {
   "cell_type": "code",
   "execution_count": 6,
   "id": "ba448bf3",
   "metadata": {},
   "outputs": [],
   "source": [
    "def forward_pass(inputs):\n",
    "    hidden_layer = sigmoid(np.dot(inputs, input_weights) + input_bias)\n",
    "    output_layer = sigmoid(np.dot(hidden_layer, hidden_weights) + hidden_bias)\n",
    "    return hidden_layer, output_layer\n"
   ]
  },
  {
   "cell_type": "code",
   "execution_count": 7,
   "id": "26a1f45b",
   "metadata": {},
   "outputs": [
    {
     "name": "stdout",
     "output_type": "stream",
     "text": [
      "Input: [0, 0], Output: [[0.85276915]] , hidden: [[0.52329423 0.6856531  0.70274265 0.65423522]], expected: 0\n",
      "Input: [0, 1], Output: [[0.87439028]] , hidden: [[0.65542469 0.7927877  0.82709203 0.7538272 ]], expected: 0\n",
      "Input: [1, 0], Output: [[0.8765788]] , hidden: [[0.74179864 0.69933525 0.86121385 0.66667868]], expected: 0\n",
      "Input: [1, 1], Output: [[0.8888126]] , hidden: [[0.83272501 0.80314555 0.92623015 0.76397952]], expected: 1\n"
     ]
    }
   ],
   "source": [
    "y_preds=[]\n",
    "for i, x in enumerate(data):\n",
    "    hidden_layer, output_layer = forward_pass(x)\n",
    "    y_preds.append(output_layer)\n",
    "    print(f\"Input: {x}, Output: {output_layer} , hidden: {hidden_layer}, expected: {out[i]}\")"
   ]
  },
  {
   "cell_type": "code",
   "execution_count": 8,
   "id": "ec8ef228",
   "metadata": {},
   "outputs": [],
   "source": [
    "def error(y_true, y_pred):\n",
    "    eps = 1e-15  # small constant to avoid log(0)\n",
    "    y_pred = np.clip(y_pred, eps, 1 - eps)  # clip predictions to avoid log(0)\n",
    "    return np.mean(-(y_true * np.log(y_pred) + (1 - y_true) * np.log(1 - y_pred)))"
   ]
  },
  {
   "cell_type": "code",
   "execution_count": 9,
   "id": "4dbd1fdc",
   "metadata": {},
   "outputs": [
    {
     "name": "stdout",
     "output_type": "stream",
     "text": [
      "-----\n",
      "Error: 1.550087595214401\n"
     ]
    }
   ],
   "source": [
    "print(\"-----\")\n",
    "print(\"Error:\", error(np.array(out), np.array(y_preds).flatten()))"
   ]
  }
 ],
 "metadata": {
  "kernelspec": {
   "display_name": "Python 3",
   "language": "python",
   "name": "python3"
  },
  "language_info": {
   "codemirror_mode": {
    "name": "ipython",
    "version": 3
   },
   "file_extension": ".py",
   "mimetype": "text/x-python",
   "name": "python",
   "nbconvert_exporter": "python",
   "pygments_lexer": "ipython3",
   "version": "3.9.6"
  }
 },
 "nbformat": 4,
 "nbformat_minor": 5
}
