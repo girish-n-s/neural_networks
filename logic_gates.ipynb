{
 "cells": [
  {
   "cell_type": "code",
   "execution_count": 1,
   "id": "107d54a5",
   "metadata": {},
   "outputs": [
    {
     "name": "stdout",
     "output_type": "stream",
     "text": [
      "[[0, 0], [0, 1], [1, 0], [1, 1]]\n"
     ]
    }
   ],
   "source": [
    "data=[]\n",
    "for i in [0,1]:\n",
    "    for j in [0,1]:\n",
    "        x=[i,j]\n",
    "        data.append(x)\n",
    "print(data)"
   ]
  },
  {
   "cell_type": "code",
   "execution_count": 2,
   "id": "d3af804d",
   "metadata": {},
   "outputs": [],
   "source": [
    "import numpy as np"
   ]
  },
  {
   "cell_type": "markdown",
   "id": "8faaee50",
   "metadata": {},
   "source": [
    "# and "
   ]
  },
  {
   "cell_type": "code",
   "execution_count": 3,
   "id": "6872bd48",
   "metadata": {},
   "outputs": [],
   "source": [
    "def sigmoid(x):\n",
    "    return 1/(1+np.exp(-x))"
   ]
  },
  {
   "cell_type": "code",
   "execution_count": 4,
   "id": "d24c306f",
   "metadata": {},
   "outputs": [],
   "source": [
    "def sigmoid_derivative(x):\n",
    "    return sigmoid(x)*(1-sigmoid(x))"
   ]
  },
  {
   "cell_type": "code",
   "execution_count": 5,
   "id": "0601480d",
   "metadata": {},
   "outputs": [
    {
     "name": "stdout",
     "output_type": "stream",
     "text": [
      "[[0.38273512 0.58952921 0.56137466 0.75021024]\n",
      " [0.62558086 0.39059046 0.74569151 0.13594989]]\n",
      "[[0.93850629]\n",
      " [0.97232854]\n",
      " [0.22484539]\n",
      " [0.67561096]]\n",
      "[[0.50113482 0.51187698 0.65129776 0.44889341]]\n",
      "[[0.97588518]]\n",
      "-----\n"
     ]
    }
   ],
   "source": [
    "out=[0,0,0,1] # and gate\n",
    "\n",
    "input_weights= np.random.uniform(size=(2,4)) # 2 inputs, 4 outputs\n",
    "hidden_weights= np.random.uniform(size=(4,1)) # 4 inputs, 1 output\n",
    "input_bias= np.random.uniform(size=(1,4)) # 1 input, 4 outputs\n",
    "hidden_bias= np.random.uniform(size=(1,1)) # 1 input, 1\n",
    "lr=0.1 # learning rate\n",
    "print(input_weights) \n",
    "print(hidden_weights)\n",
    "print(input_bias)\n",
    "print(hidden_bias)\n",
    "print(\"-----\")\n",
    "\n"
   ]
  },
  {
   "cell_type": "code",
   "execution_count": 6,
   "id": "ba448bf3",
   "metadata": {},
   "outputs": [],
   "source": [
    "def forward_pass(inputs):\n",
    "    hidden_layer = sigmoid(np.dot(inputs, input_weights) + input_bias)\n",
    "    output_layer = sigmoid(np.dot(hidden_layer, hidden_weights) + hidden_bias)\n",
    "    return hidden_layer, output_layer\n"
   ]
  },
  {
   "cell_type": "code",
   "execution_count": 9,
   "id": "26a1f45b",
   "metadata": {},
   "outputs": [
    {
     "name": "stdout",
     "output_type": "stream",
     "text": [
      "Input: [0, 0], Output: [[0.93868357]] , hidden: [[0.62272598 0.62524638 0.65730285 0.6103761 ]], expected: 0\n",
      "Input: [0, 1], Output: [[0.95214625]] , hidden: [[0.75523228 0.7114563  0.8017057  0.64218109]], expected: 0\n",
      "Input: [1, 0], Output: [[0.95530505]] , hidden: [[0.70762353 0.75052349 0.77077146 0.76836529]], expected: 0\n",
      "Input: [1, 1], Output: [[0.9633922]] , hidden: [[0.8189798  0.81637777 0.87635578 0.79167532]], expected: 1\n"
     ]
    }
   ],
   "source": [
    "for i, x in enumerate(data):\n",
    "    hidden_layer, output_layer = forward_pass(x)\n",
    "    print(f\"Input: {x}, Output: {output_layer} , hidden: {hidden_layer}, expected: {out[i]}\")"
   ]
  },
  {
   "cell_type": "code",
   "execution_count": 8,
   "id": "ec8ef228",
   "metadata": {},
   "outputs": [
    {
     "name": "stdout",
     "output_type": "stream",
     "text": [
      "0.7310585786300049\n"
     ]
    }
   ],
   "source": [
    "print(sigmoid(1))"
   ]
  },
  {
   "cell_type": "code",
   "execution_count": null,
   "id": "4dbd1fdc",
   "metadata": {},
   "outputs": [],
   "source": []
  }
 ],
 "metadata": {
  "kernelspec": {
   "display_name": "Python 3",
   "language": "python",
   "name": "python3"
  },
  "language_info": {
   "codemirror_mode": {
    "name": "ipython",
    "version": 3
   },
   "file_extension": ".py",
   "mimetype": "text/x-python",
   "name": "python",
   "nbconvert_exporter": "python",
   "pygments_lexer": "ipython3",
   "version": "3.9.6"
  }
 },
 "nbformat": 4,
 "nbformat_minor": 5
}
